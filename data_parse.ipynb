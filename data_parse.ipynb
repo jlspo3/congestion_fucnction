{
 "cells": [
  {
   "cell_type": "code",
   "execution_count": null,
   "id": "c495ebf2",
   "metadata": {},
   "outputs": [],
   "source": [
    "#import the required libraries\n",
    "import pandas as pd\n",
    "import numpy as np\n",
    "\n",
    "#Define input data directories\n",
    "data_directory = './data'\n",
    "output_directory = './parsed_data'"
   ]
  },
  {
   "cell_type": "code",
   "execution_count": null,
   "id": "70c8867e",
   "metadata": {},
   "outputs": [],
   "source": [
    "#Read in the pedestrian count and sensor location data\n",
    "df = pd.read_csv(data_directory + '/Pedestrian_Counting_System_-_Monthly__counts_per_hour_.csv', dtype = str)\n",
    "location_df = pd.read_csv(data_directory+'/Pedestrian_Counting_System_-_Sensor_Locations.csv', dtype = str)\n",
    "location_df = location_df[['sensor_id','latitude','longitude']]"
   ]
  },
  {
   "cell_type": "code",
   "execution_count": null,
   "id": "51659186",
   "metadata": {},
   "outputs": [],
   "source": [
    "#Exclude sensor lcoations such based on sensor locaitons falling outside the melbourne cbd\n",
    "exclude = ['75',\n",
    "           '10',\n",
    "           '50',\n",
    "           '46',\n",
    "           '71',\n",
    "           '78',\n",
    "           '51',\n",
    "           '69'\n",
    "          ]\n",
    "\n",
    "df = df[~df.Sensor_ID.isin(exclude)]"
   ]
  },
  {
   "cell_type": "code",
   "execution_count": null,
   "id": "305bb11d",
   "metadata": {},
   "outputs": [],
   "source": [
    "#Add time based data enrichment\n",
    "df.Date_Time = pd.to_datetime(df.Date_Time)\n",
    "\n",
    "#Convert the time stamps into unix time\n",
    "df['unix_time'] = pd.to_datetime(df.Date_Time).astype(np.int64) // 10**9\n",
    "\n",
    "#Extract the hour form the date column\n",
    "df['hour'] = pd.to_datetime(df.Date_Time).dt.hour\n",
    "\n",
    "#Retain the required columns\n",
    "df = df[['Sensor_ID','Hourly_Counts','unix_time','hour']]"
   ]
  },
  {
   "cell_type": "code",
   "execution_count": null,
   "id": "e88c0a91",
   "metadata": {},
   "outputs": [],
   "source": [
    "#Merge in the lcoation data to get the lon/lat for each sensor\n",
    "df = df.merge(location_df, how = 'inner', left_on = 'Sensor_ID', right_on = 'sensor_id')\n",
    "\n",
    "#change the column names into a single convention\n",
    "df.columns = ['sensor_id','count','unix_time','hour','sensor','lat','lon']\n",
    "df = df[['sensor_id','count','unix_time','hour','lat','lon']]"
   ]
  },
  {
   "cell_type": "code",
   "execution_count": null,
   "id": "58f90726",
   "metadata": {},
   "outputs": [],
   "source": [
    "#Remove the anything beyond the last six months\n",
    "max_time = max(df.unix_time)\n",
    "#Calculate the min time as six months back from the amx time\n",
    "min_time = max_time - (86400 * 100)\n",
    "\n",
    "#Filter the dataframe to only include observations in the last six months\n",
    "df = df[df.unix_time > min_time]\n",
    "\n",
    "df['date'] = pd.to_datetime(df['unix_time'],unit='s')\n",
    "df = df.sort_values(by = 'date', ascending = False)\n",
    "\n",
    "df['position'] = df.lon * df.lat\n",
    "df['month'] = df.date.dt.month\n",
    "df['day_of_week'] = df.date.dt.dayofweek"
   ]
  },
  {
   "cell_type": "code",
   "execution_count": null,
   "id": "30316e8c",
   "metadata": {},
   "outputs": [],
   "source": [
    "#Save the parsed dataset\n",
    "df.to_csv(output_directory+'/data.csv', index = False)"
   ]
  }
 ],
 "metadata": {
  "kernelspec": {
   "display_name": "Python 3 (ipykernel)",
   "language": "python",
   "name": "python3"
  },
  "language_info": {
   "codemirror_mode": {
    "name": "ipython",
    "version": 3
   },
   "file_extension": ".py",
   "mimetype": "text/x-python",
   "name": "python",
   "nbconvert_exporter": "python",
   "pygments_lexer": "ipython3",
   "version": "3.9.12"
  }
 },
 "nbformat": 4,
 "nbformat_minor": 5
}
