{
 "cells": [
  {
   "cell_type": "code",
   "execution_count": 1,
   "id": "7b445d0d",
   "metadata": {},
   "outputs": [],
   "source": [
    "import pymysql\n",
    "import pandas as pd\n",
    "from sqlalchemy import create_engine"
   ]
  },
  {
   "cell_type": "code",
   "execution_count": 2,
   "id": "8a330d58",
   "metadata": {},
   "outputs": [],
   "source": [
    "\n",
    "username = 'admin'\n",
    "password = 'fourdaystothechicken'\n",
    "endpoint = 'database-2.cydzclgqymxf.ap-southeast-2.rds.amazonaws.com'\n",
    "database_name = 'pedestrianCount'\n",
    "\n",
    "#connetion\n",
    "connection = pymysql.connect(host = endpoint, user = username, password = password, db = database_name)"
   ]
  },
  {
   "cell_type": "code",
   "execution_count": 3,
   "id": "28f30afc",
   "metadata": {},
   "outputs": [],
   "source": [
    "cursor = connection.cursor()"
   ]
  },
  {
   "cell_type": "markdown",
   "id": "ed586f57",
   "metadata": {},
   "source": [
    "deleteStatement = \"DELETE FROM pedestrianCount\";\n",
    "cursor.execute(deleteStatement);\n",
    "connection.commit()"
   ]
  },
  {
   "cell_type": "markdown",
   "id": "deaf2e07",
   "metadata": {},
   "source": [
    "#Create a database\n",
    "sqlStatement = \"CREATE DATABASE \"+\"pedestrianCount\"\n",
    "\n",
    "cursor.execute(sqlStatement)\n",
    "\n",
    "sqlQuery = \"SHOW DATABASES\"\n",
    "cursor.execute(sqlQuery)\n",
    "\n",
    "#Fetch all the rows\n",
    "\n",
    "databaseList = cursor.fetchall()\n",
    "\n",
    "for datatbase in databaseList:\n",
    "    print(datatbase)\n",
    "    \n",
    "connection.close()"
   ]
  },
  {
   "cell_type": "markdown",
   "id": "69b14f7c",
   "metadata": {},
   "source": [
    "# SQL query string\n",
    "\n",
    "sqlQuery = \"\"\"\n",
    "    CREATE TABLE IF NOT EXISTS pedestrianCount(\n",
    "        sensor_id INTEGER,\n",
    "        count INTEGER,\n",
    "        unix_time INTEGER,\n",
    "        hour INTEGER,\n",
    "        lat DECIMAL(14,9),\n",
    "        lon DECIMAL(14,9)\n",
    "    )\n",
    "    \"\"\"\n",
    "# Execute the sqlQuery\n",
    "\n",
    "cursor.execute(sqlQuery)\n",
    "\n",
    "# SQL query string\n",
    "sqlQuery = \"show tables\"   \n",
    "\n",
    "# Execute the sqlQuery\n",
    "cursor.execute(sqlQuery)\n",
    "\n",
    "#Fetch all the rows\n",
    "rows = cursor.fetchall()\n",
    "\n",
    "for row in rows:\n",
    "    print(row)\n",
    "\n",
    "connection.close()"
   ]
  },
  {
   "cell_type": "code",
   "execution_count": null,
   "id": "f601e557",
   "metadata": {},
   "outputs": [],
   "source": [
    "import pymysql\n",
    "import pandas as pd\n",
    "from sqlalchemy import create_engine\n",
    "\n",
    "# Create dataframe\n",
    "data = pd.read_csv('./parsed_data/data.csv')\n",
    "\n",
    "db_data = 'mysql+mysqldb://' + username + ':' + password + '@' + endpoint + ':3306/' \\\n",
    "       + 'pedestrianCount'\n",
    "engine = create_engine(db_data)\n",
    "\n",
    "data.to_sql('pedestrianCount', engine, if_exists='append', index=False)    "
   ]
  },
  {
   "cell_type": "code",
   "execution_count": 4,
   "id": "d1cbdf28",
   "metadata": {},
   "outputs": [
    {
     "name": "stdout",
     "output_type": "stream",
     "text": [
      "136441\n"
     ]
    }
   ],
   "source": [
    "# Execute query\n",
    "sql = \"SELECT * FROM `pedestrianCount`\"\n",
    "cursor.execute(sql)\n",
    "\n",
    "# Fetch all the records\n",
    "result = cursor.fetchall()\n",
    "print(len(result))"
   ]
  },
  {
   "cell_type": "code",
   "execution_count": 5,
   "id": "eb954624",
   "metadata": {},
   "outputs": [],
   "source": [
    "#engine.dispose()\n",
    "connection.close()"
   ]
  }
 ],
 "metadata": {
  "kernelspec": {
   "display_name": "Python 3 (ipykernel)",
   "language": "python",
   "name": "python3"
  },
  "language_info": {
   "codemirror_mode": {
    "name": "ipython",
    "version": 3
   },
   "file_extension": ".py",
   "mimetype": "text/x-python",
   "name": "python",
   "nbconvert_exporter": "python",
   "pygments_lexer": "ipython3",
   "version": "3.9.12"
  }
 },
 "nbformat": 4,
 "nbformat_minor": 5
}
